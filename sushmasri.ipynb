{
  "nbformat": 4,
  "nbformat_minor": 0,
  "metadata": {
    "colab": {
      "name": "sushmasri",
      "provenance": [],
      "collapsed_sections": [],
      "authorship_tag": "ABX9TyOYa5Ens1qXxc73x+tXAssK",
      "include_colab_link": true
    },
    "kernelspec": {
      "name": "python3",
      "display_name": "Python 3"
    }
  },
  "cells": [
    {
      "cell_type": "markdown",
      "metadata": {
        "id": "view-in-github",
        "colab_type": "text"
      },
      "source": [
        "<a href=\"https://colab.research.google.com/github/19PA1A04F2/VITBML-EDA1/blob/master/sushmasri.ipynb\" target=\"_parent\"><img src=\"https://colab.research.google.com/assets/colab-badge.svg\" alt=\"Open In Colab\"/></a>"
      ]
    },
    {
      "cell_type": "code",
      "metadata": {
        "id": "yCWUWQU54bR8",
        "colab_type": "code",
        "colab": {
          "base_uri": "https://localhost:8080/",
          "height": 52
        },
        "outputId": "6ca5551f-bb7e-4fc9-ff9a-5509ded22285"
      },
      "source": [
        "import numpy as np\n",
        "x=np.array([1,2,3,4,5])\n",
        "y=np.array([1,4,5,3,2])\n",
        "mean_x=np.mean(x)\n",
        "mean_y=np.mean(y)\n",
        "n=len(x)\n",
        "num=0\n",
        "dnum=0\n",
        "for i in range(n):\n",
        "  num=num+(x[i]-mean_x)*(y[i]-mean_y)\n",
        "  dnum=dnum+(x[i]-mean_x)**2\n",
        "m=num/dnum\n",
        "c=mean_y-(m*mean_x)\n",
        "print(m)\n",
        "print(c)  \n",
        "  "
      ],
      "execution_count": 3,
      "outputs": [
        {
          "output_type": "stream",
          "text": [
            "0.1\n",
            "2.7\n"
          ],
          "name": "stdout"
        }
      ]
    },
    {
      "cell_type": "code",
      "metadata": {
        "id": "VrLTOcz67EKE",
        "colab_type": "code",
        "colab": {
          "base_uri": "https://localhost:8080/",
          "height": 34
        },
        "outputId": "c1708a20-da6e-4812-9fe1-b81ec397dbb8"
      },
      "source": [
        "l=[]\n",
        "for i in range(n):\n",
        "  y_p=(m*x[i])+c\n",
        "  l.append(y_p)\n",
        "print(l)  \n",
        "yy=np.array(l)"
      ],
      "execution_count": 10,
      "outputs": [
        {
          "output_type": "stream",
          "text": [
            "[2.8000000000000003, 2.9000000000000004, 3.0, 3.1, 3.2]\n"
          ],
          "name": "stdout"
        }
      ]
    },
    {
      "cell_type": "code",
      "metadata": {
        "id": "mebY2YYO73VE",
        "colab_type": "code",
        "colab": {
          "base_uri": "https://localhost:8080/",
          "height": 282
        },
        "outputId": "f8659faf-07ed-4601-fe8f-73487e105119"
      },
      "source": [
        "import matplotlib.pyplot as plt\n",
        "plt.plot(x,yy)\n",
        "plt.scatter(x,y)\n"
      ],
      "execution_count": 11,
      "outputs": [
        {
          "output_type": "execute_result",
          "data": {
            "text/plain": [
              "<matplotlib.collections.PathCollection at 0x7fa0add43e48>"
            ]
          },
          "metadata": {
            "tags": []
          },
          "execution_count": 11
        },
        {
          "output_type": "display_data",
          "data": {
            "image/png": "[encoded data removed]",
            "text/plain": [
              "<Figure size 432x288 with 1 Axes>"
            ]
          },
          "metadata": {
            "tags": []
          }
        }
      ]
    },
    {
      "cell_type": "code",
      "metadata": {
        "id": "-SwKap9q96LU",
        "colab_type": "code",
        "colab": {
          "base_uri": "https://localhost:8080/",
          "height": 69
        },
        "outputId": "7dc84846-9f1b-42fd-b63c-957aa4607eb2"
      },
      "source": [
        "n1=0\n",
        "n2=0\n",
        "n3=0\n",
        "for i in range(n):\n",
        "  n1=n1+(y[i]-mean_y)**2\n",
        "  n2=n2+(yy[i]-mean_y)**2\n",
        "  n3=n3+(yy[i]-y[i])**2\n",
        "print(n1)\n",
        "print(n2)\n",
        "print(n3)  "
      ],
      "execution_count": 12,
      "outputs": [
        {
          "output_type": "stream",
          "text": [
            "10.0\n",
            "0.09999999999999991\n",
            "9.899999999999999\n"
          ],
          "name": "stdout"
        }
      ]
    },
    {
      "cell_type": "code",
      "metadata": {
        "id": "8duI95EY_c7P",
        "colab_type": "code",
        "colab": {
          "base_uri": "https://localhost:8080/",
          "height": 34
        },
        "outputId": "658dad31-3475-4592-ff49-38f332e22b17"
      },
      "source": [
        "R=n2/n1\n",
        "print(R)\n"
      ],
      "execution_count": 17,
      "outputs": [
        {
          "output_type": "stream",
          "text": [
            "0.009999999999999992\n"
          ],
          "name": "stdout"
        }
      ]
    },
    {
      "cell_type": "code",
      "metadata": {
        "id": "uba6xV6b_o8X",
        "colab_type": "code",
        "colab": {
          "base_uri": "https://localhost:8080/",
          "height": 34
        },
        "outputId": "92e48329-7844-4460-de03-4944fbf81621"
      },
      "source": [
        "for i in range(n):\n",
        "  std=np.sqrt(n3/(n-2))\n",
        "print(std)  "
      ],
      "execution_count": 16,
      "outputs": [
        {
          "output_type": "stream",
          "text": [
            "1.8165902124584947\n"
          ],
          "name": "stdout"
        }
      ]
    },
    {
      "cell_type": "code",
      "metadata": {
        "id": "2DBHG7ntBVJI",
        "colab_type": "code",
        "colab": {}
      },
      "source": [
        ""
      ],
      "execution_count": 0,
      "outputs": []
    }
  ]
}